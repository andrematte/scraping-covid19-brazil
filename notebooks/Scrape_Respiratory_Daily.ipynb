{
 "cells": [
  {
   "cell_type": "markdown",
   "metadata": {},
   "source": [
    "# Web Scraping of COVID-19 Data from Brazilian Instituions\n",
    "**Author: André Mattos - carlos.mattos@itec.ufpa.br**\n",
    "\n",
    "\n",
    "- Scrapes daily data from https://transparencia.registrocivil.org.br/registral-covid .\n",
    "- Need to setup headers.\n"
   ]
  },
  {
   "cell_type": "code",
   "execution_count": 1,
   "metadata": {},
   "outputs": [],
   "source": [
    "# Importing libraries\n",
    "\n",
    "import datetime\n",
    "import pandas as pd\n",
    "import random as rd\n",
    "import requests, os, glob, ast, json, shutil, time"
   ]
  },
  {
   "cell_type": "code",
   "execution_count": 2,
   "metadata": {},
   "outputs": [
    {
     "name": "stdout",
     "output_type": "stream",
     "text": [
      "PA, Belém,  2241\n",
      "CE, Fortaleza,  1280\n",
      "AM, Manaus,  771\n",
      "PE, Recife,  2603\n",
      "RJ, Rio de Janeiro,  4646\n",
      "SP, São Paulo,  1\n"
     ]
    }
   ],
   "source": [
    "# Create dictionary of selected cities and their IDs (set up on CitySelect.txt)\n",
    "\n",
    "city_select = dict()\n",
    "cities = dict()\n",
    "states = dict()\n",
    "headers = dict()\n",
    "\n",
    "with open('../CitySelect.txt', 'r') as inf:\n",
    "    city_select.update(ast.literal_eval(inf.read()))\n",
    "\n",
    "with open('../CityCodes.txt', 'r') as inf:\n",
    "    data_json = json.load(inf)\n",
    "    \n",
    "with open('../Headers.txt', 'r') as inf:\n",
    "    headers.update(ast.literal_eval(inf.read()))\n",
    "\n",
    "\n",
    "# Avoid those city IDs (temporary fix since some cities have duplicate names)\n",
    "drop_cities = ['3249']\n",
    "\n",
    "city_list = [value[3:] for value in city_select.values()]\n",
    "city_list.append('all')\n",
    "\n",
    "for x in range(0,len(data_json)):\n",
    "    if data_json[x]['nome'] in city_list:\n",
    "        \n",
    "        print(f\"{data_json[x]['uf']}, {data_json[x]['nome']},  {data_json[x]['city_id']}\")\n",
    "        \n",
    "        if not data_json[x]['city_id'] in drop_cities:\n",
    "            states[data_json[x]['uf']] = data_json[x]['nome']\n",
    "            cities[data_json[x]['nome']] = data_json[x]['city_id']"
   ]
  },
  {
   "cell_type": "code",
   "execution_count": 4,
   "metadata": {},
   "outputs": [],
   "source": [
    "# Set up death causes and dates to scrape\n",
    "causes = ['COVID', 'SRAG', 'PNEUMONIA', 'INSUFICIENCIA_RESPIRATORIA', 'SEPTICEMIA', 'INDETERMINADA', 'OUTRAS']\n",
    "\n",
    "dates = pd.date_range('2020-01-01', pd.Timestamp.today())\n",
    "backdates = pd.date_range('2019-01-01', pd.Timestamp.today().replace(year=2019))"
   ]
  },
  {
   "cell_type": "code",
   "execution_count": null,
   "metadata": {},
   "outputs": [],
   "source": [
    "data_path = f\"../data/Respiratory_RC/Respiratory_RC_{pd.Timestamp.today().strftime('%Y-%m-%d')}/\"\n",
    "\n",
    "try:\n",
    "    os.mkdir(data_path)\n",
    "except:\n",
    "    pass\n",
    "\n",
    "for state, city in zip(states.keys(), cities.keys()):\n",
    "\n",
    "    dataframe_2019 = pd.DataFrame(columns = causes)\n",
    "    dataframe_2020 = pd.DataFrame(columns = causes)\n",
    "    del dataframe_2019['COVID']\n",
    "    \n",
    "    print(f'Scraping {city}, {state} data.')\n",
    "    \n",
    "    for date, backdate in zip(dates.strftime('%Y-%m-%d'), backdates.strftime('%Y-%m-%d')):\n",
    "        \n",
    "        print('Scraping the following date: ', date)\n",
    "        URL = f'https://transparencia.registrocivil.org.br/api/covid-covid-registral?start_date={date}&end_date={date}&state={state}&city_id={cities[city]}&chart=chart1&places[]=HOSPITAL&places[]=DOMICILIO&places[]=VIA_PUBLICA&places[]=OUTROS&cor_pele=I&diffCity=false     ' \n",
    "                                                                      \n",
    "        while True:\n",
    "            page = requests.get(URL, headers = headers)\n",
    "            if page.status_code == 200:\n",
    "                break\n",
    "            else:\n",
    "                print('Request Failed')\n",
    "                time.sleep(2 + rd.random()*5)\n",
    "        \n",
    "        data_json = page.json()\n",
    "        time.sleep(0.5 + rd.random() * 3)\n",
    "        chart = data_json['chart']\n",
    "\n",
    "        ano_2020 = pd.DataFrame(columns = causes)\n",
    "        ano_2019 = pd.DataFrame(columns = causes)\n",
    "        \n",
    "        ano_2020 = ano_2020.append(chart['2020'], ignore_index=True)\n",
    "        ano_2019 = ano_2019.append(chart['2019'], ignore_index=True)\n",
    "        \n",
    "        try:\n",
    "            dataframe_2020.loc[f'{date}'] = ano_2020.iloc[-1]\n",
    "        except:\n",
    "            dataframe_2020.loc[f'{date}'] = 0\n",
    "            \n",
    "        try:    \n",
    "            dataframe_2019.loc[f'{backdate}'] = ano_2019.iloc[-1]\n",
    "        except:\n",
    "            dataframe_2019.loc[f'{backdate}'] = 0\n",
    "            \n",
    "        \n",
    "    dataframe_2020.fillna(0)\n",
    "    dataframe_2019.fillna(0)\n",
    "    \n",
    "    dataframe_2020['Month'] = pd.to_datetime(dataframe_2020.index)\n",
    "    dataframe_2020 = dataframe_2020.set_index('Month')\n",
    "\n",
    "    dataframe_2019['Month'] = pd.to_datetime(dataframe_2019.index)\n",
    "    dataframe_2019 = dataframe_2019.set_index('Month')\n",
    "    dataframe_2019['COVID'] = 0\n",
    "    \n",
    "    concat = pd.concat([dataframe_2019, dataframe_2020], axis=0)\n",
    "    concat = concat.rename(columns={'OUTRAS': 'DEMAIS OBITOS', 'INSUFICIENCIA_RESPIRATORIA': 'INSUFICIENCIA RESPIRATORIA', 'COVID': 'COVID19'})  \n",
    "    concat.fillna(0)\n",
    "    \n",
    "    concat.to_csv(data_path + f'/RC_{state}_{city}.csv')"
   ]
  },
  {
   "cell_type": "code",
   "execution_count": null,
   "metadata": {},
   "outputs": [],
   "source": []
  },
  {
   "cell_type": "code",
   "execution_count": null,
   "metadata": {},
   "outputs": [],
   "source": []
  }
 ],
 "metadata": {
  "kernelspec": {
   "display_name": "Python 3.7.6 64-bit ('PyCharm': conda)",
   "language": "python",
   "name": "python37664bitpycharmconda3b4e70241a314db7934bb04eddee4732"
  },
  "language_info": {
   "codemirror_mode": {
    "name": "ipython",
    "version": 3
   },
   "file_extension": ".py",
   "mimetype": "text/x-python",
   "name": "python",
   "nbconvert_exporter": "python",
   "pygments_lexer": "ipython3",
   "version": "3.7.7"
  }
 },
 "nbformat": 4,
 "nbformat_minor": 4
}
