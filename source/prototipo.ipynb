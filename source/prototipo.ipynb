{
 "metadata": {
  "language_info": {
   "codemirror_mode": {
    "name": "ipython",
    "version": 3
   },
   "file_extension": ".py",
   "mimetype": "text/x-python",
   "name": "python",
   "nbconvert_exporter": "python",
   "pygments_lexer": "ipython3",
   "version": "3.9.2-final"
  },
  "orig_nbformat": 2,
  "kernelspec": {
   "name": "python3",
   "display_name": "Python 3.9.2 64-bit",
   "metadata": {
    "interpreter": {
     "hash": "7812ea015bdcee6f23a998adcdd2ef97c151c0c241b7b7070987d9313e41299d"
    }
   }
  }
 },
 "nbformat": 4,
 "nbformat_minor": 2,
 "cells": [
  {
   "cell_type": "code",
   "execution_count": 1,
   "metadata": {},
   "outputs": [],
   "source": [
    "# Auto reload python modules\n",
    "%load_ext autoreload\n",
    "%autoreload 2\n",
    "\n",
    "# Append previous folder to path    \n",
    "import sys\n",
    "sys.path.append(\"../\")"
   ]
  },
  {
   "cell_type": "code",
   "execution_count": 2,
   "metadata": {},
   "outputs": [],
   "source": [
    "import pandas as pd\n",
    "from source.utils import *"
   ]
  },
  {
   "cell_type": "code",
   "execution_count": 93,
   "metadata": {},
   "outputs": [],
   "source": [
    "cities_raw = pd.read_json('../CityCodes.txt')\n",
    "cities_raw.drop(columns=['total'], inplace=True)"
   ]
  },
  {
   "cell_type": "code",
   "execution_count": 3,
   "metadata": {},
   "outputs": [
    {
     "output_type": "stream",
     "name": "stdout",
     "text": [
      "SE, Aracaju,  4426\nPA, Belém,  2241\nMG, Belo Horizonte,  4750\nRR, Boa Vista,  3621\nDF, Brasília,  1457\nMS, Campo Grande,  2005\nMT, Cuiaba,  2104\nPR, Curitiba,  3009\nSC, Florianopolis,  4152\nCE, Fortaleza,  1280\nGO, Goiânia,  1574\nPB, Joao Pessoa,  2366\nAP, Macapa,  833\nAL, Maceio,  670\nAM, Manaus,  771\nRN, Natal,  3397\nPR, Palmas,  3249\nTO, Palmas,  4633\nRS, Porto Alegre,  3647\nRO, Porto Velho,  3565\nPE, Recife,  2603\nAC, Rio Branco,  650\nRJ, Rio de Janeiro,  4646\nBA, Salvador,  855\nMA, São Luís,  1791\nSP, São Paulo,  1\nPI, Teresina,  2772\nES, Vitória,  1462\n"
     ]
    }
   ],
   "source": [
    "city_select, cities, states, headers = load_data()"
   ]
  },
  {
   "cell_type": "code",
   "execution_count": 94,
   "metadata": {},
   "outputs": [],
   "source": [
    "cities_raw['capital'] = False\n",
    "capital_list = list(cities.keys())\n",
    "\n",
    "capital_index = list(cities_raw[cities_raw['nome'].isin(capital_list)].index)\n",
    "cities_raw.loc[capital_index,'capital'] = True"
   ]
  },
  {
   "cell_type": "code",
   "execution_count": 97,
   "metadata": {},
   "outputs": [],
   "source": [
    "cities = pd.DataFrame()\n",
    "cities[['city_id', 'uf', 'nome', 'capital']] = cities_raw[['city_id', 'uf', 'nome', 'capital']] "
   ]
  },
  {
   "cell_type": "code",
   "execution_count": 101,
   "metadata": {},
   "outputs": [],
   "source": [
    "\n",
    "cities.to_csv('../cities.csv', index=False)"
   ]
  },
  {
   "cell_type": "code",
   "execution_count": 100,
   "metadata": {},
   "outputs": [
    {
     "output_type": "execute_result",
     "data": {
      "text/plain": [
       "     city_id  uf                    nome  capital\n",
       "0       2598  PE            Abreu e Lima    False\n",
       "1       1917  MA              Açailandia    False\n",
       "2       3415  RN                     Açu    False\n",
       "3         39  SP              Adamantina    False\n",
       "4       2621  PE   Afogados da Ingazeira    False\n",
       "..       ...  ..                     ...      ...\n",
       "558      883  BA    Vitoria da Conquista    False\n",
       "559     2592  PE  Vitória de Santo Antão    False\n",
       "560     4650  RJ           Volta Redonda    False\n",
       "561       33  SP              Votorantim    False\n",
       "562      178  SP             Votuporanga    False\n",
       "\n",
       "[563 rows x 4 columns]"
      ],
      "text/html": "<div>\n<style scoped>\n    .dataframe tbody tr th:only-of-type {\n        vertical-align: middle;\n    }\n\n    .dataframe tbody tr th {\n        vertical-align: top;\n    }\n\n    .dataframe thead th {\n        text-align: right;\n    }\n</style>\n<table border=\"1\" class=\"dataframe\">\n  <thead>\n    <tr style=\"text-align: right;\">\n      <th></th>\n      <th>city_id</th>\n      <th>uf</th>\n      <th>nome</th>\n      <th>capital</th>\n    </tr>\n  </thead>\n  <tbody>\n    <tr>\n      <th>0</th>\n      <td>2598</td>\n      <td>PE</td>\n      <td>Abreu e Lima</td>\n      <td>False</td>\n    </tr>\n    <tr>\n      <th>1</th>\n      <td>1917</td>\n      <td>MA</td>\n      <td>Açailandia</td>\n      <td>False</td>\n    </tr>\n    <tr>\n      <th>2</th>\n      <td>3415</td>\n      <td>RN</td>\n      <td>Açu</td>\n      <td>False</td>\n    </tr>\n    <tr>\n      <th>3</th>\n      <td>39</td>\n      <td>SP</td>\n      <td>Adamantina</td>\n      <td>False</td>\n    </tr>\n    <tr>\n      <th>4</th>\n      <td>2621</td>\n      <td>PE</td>\n      <td>Afogados da Ingazeira</td>\n      <td>False</td>\n    </tr>\n    <tr>\n      <th>...</th>\n      <td>...</td>\n      <td>...</td>\n      <td>...</td>\n      <td>...</td>\n    </tr>\n    <tr>\n      <th>558</th>\n      <td>883</td>\n      <td>BA</td>\n      <td>Vitoria da Conquista</td>\n      <td>False</td>\n    </tr>\n    <tr>\n      <th>559</th>\n      <td>2592</td>\n      <td>PE</td>\n      <td>Vitória de Santo Antão</td>\n      <td>False</td>\n    </tr>\n    <tr>\n      <th>560</th>\n      <td>4650</td>\n      <td>RJ</td>\n      <td>Volta Redonda</td>\n      <td>False</td>\n    </tr>\n    <tr>\n      <th>561</th>\n      <td>33</td>\n      <td>SP</td>\n      <td>Votorantim</td>\n      <td>False</td>\n    </tr>\n    <tr>\n      <th>562</th>\n      <td>178</td>\n      <td>SP</td>\n      <td>Votuporanga</td>\n      <td>False</td>\n    </tr>\n  </tbody>\n</table>\n<p>563 rows × 4 columns</p>\n</div>"
     },
     "metadata": {},
     "execution_count": 100
    }
   ],
   "source": [
    "cities"
   ]
  },
  {
   "cell_type": "code",
   "execution_count": 4,
   "metadata": {},
   "outputs": [
    {
     "output_type": "execute_result",
     "data": {
      "text/plain": [
       "{'ARACAJU': 'SE_Aracaju',\n",
       " 'BELO HORIZONTE': 'MG_Belo Horizonte',\n",
       " 'BELEM': 'PA_Belém',\n",
       " 'BOA VISTA': 'RR_Boa Vista',\n",
       " 'BRASILIA': 'DF_Brasília',\n",
       " 'CAMPO GRANDE': 'MS_Campo Grande',\n",
       " 'CUIABA': 'MT_Cuiaba',\n",
       " 'CURITIBA': 'PR_Curitiba',\n",
       " 'FLORIANOPOLIS': 'SC_Florianopolis',\n",
       " 'FORTALEZA': 'CE_Fortaleza',\n",
       " 'GOIANIA': 'GO_Goiânia',\n",
       " 'JOAO PESSOA': 'PB_Joao Pessoa',\n",
       " 'MACAPA': 'AP_Macapa',\n",
       " 'MACEIO': 'AL_Maceio',\n",
       " 'MANAUS': 'AM_Manaus',\n",
       " 'NATAL': 'RN_Natal',\n",
       " 'PALMAS': 'TO_Palmas',\n",
       " 'PORTO ALEGRE': 'RS_Porto Alegre',\n",
       " 'PORTO VELHO': 'RO_Porto Velho',\n",
       " 'RECIFE': 'PE_Recife',\n",
       " 'RIO BRANCO': 'AC_Rio Branco',\n",
       " 'RIO DE JANEIRO': 'RJ_Rio de Janeiro',\n",
       " 'SALVADOR': 'BA_Salvador',\n",
       " 'SAO LUIS': 'MA_São Luís',\n",
       " 'SAO PAULO': 'SP_São Paulo',\n",
       " 'TERESINA': 'PI_Teresina',\n",
       " 'VITORIA': 'ES_Vitória'}"
      ]
     },
     "metadata": {},
     "execution_count": 4
    }
   ],
   "source": [
    "city_select"
   ]
  },
  {
   "cell_type": "code",
   "execution_count": null,
   "metadata": {},
   "outputs": [],
   "source": []
  }
 ]
}